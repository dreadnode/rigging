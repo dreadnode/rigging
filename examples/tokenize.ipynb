{
 "cells": [
  {
   "cell_type": "markdown",
   "id": "8318787c",
   "metadata": {},
   "source": [
    "## Create a Calculator Tool"
   ]
  },
  {
   "cell_type": "code",
   "execution_count": null,
   "id": "28abc318",
   "metadata": {},
   "outputs": [],
   "source": [
    "import rigging as rg\n",
    "import functools\n",
    "from functools import cached_property\n",
    "import asyncio\n",
    "import typing as t\n",
    "\n",
    "class Calculator:\n",
    "    def __init__(self):\n",
    "        self.result = 0\n",
    "\n",
    "    @cached_property\n",
    "    def tools(self) -> list[t.Callable[..., t.Any]]:\n",
    "        def wrap(func: t.Callable[..., t.Any]) -> t.Callable[..., t.Any]:\n",
    "            @rg.tool(catch=True)\n",
    "            @functools.wraps(func)\n",
    "            async def wrapper(*args: t.Any, **kwargs: t.Any) -> t.Any:\n",
    "                return await asyncio.to_thread(func, *args, **kwargs)\n",
    "\n",
    "            return wrapper\n",
    "\n",
    "        return [\n",
    "            wrap(func)\n",
    "            for func in (\n",
    "                self.add,\n",
    "                self.subtract,\n",
    "                self.multiply,\n",
    "                self.divide\n",
    "            )\n",
    "        ]\n",
    "\n",
    "    def add(self, x: int, y: int) -> int:\n",
    "        \"\"\"Adds two integers.\"\"\"\n",
    "        return x + y\n",
    "\n",
    "    def subtract(self, x: int, y: int) -> int:\n",
    "        \"\"\"Subtracts the second integer from the first.\"\"\"\n",
    "        return x - y\n",
    "\n",
    "    def multiply(self, x: int, y: int) -> int:\n",
    "        \"\"\"Multiplies two integers.\"\"\"\n",
    "        return x * y\n",
    "\n",
    "    def divide(self, x: int, y: int) -> float:\n",
    "        \"\"\"Divides the first integer by the second.\"\"\"\n",
    "        if y == 0:\n",
    "            raise ValueError(\"Cannot divide by zero.\")\n",
    "        return x / y\n"
   ]
  },
  {
   "cell_type": "markdown",
   "id": "70c53038",
   "metadata": {},
   "source": [
    "## Create a check answer callback"
   ]
  },
  {
   "cell_type": "code",
   "execution_count": null,
   "id": "6a1c2a9b",
   "metadata": {},
   "outputs": [],
   "source": [
    "def check_answer(correct_answer: str) -> bool:\n",
    "    \"\"\"Check if the user's answer is correct.\"\"\"\n",
    "    async def evaluate(chat: rg.Chat) -> rg.Chat:\n",
    "        if correct_answer in chat.last.content:\n",
    "            chat.meta(result = {\"answer\": correct_answer, \"user\": chat.last.content, \"correct\": True})\n",
    "        \n",
    "        return chat\n",
    "    \n",
    "    return evaluate"
   ]
  },
  {
   "cell_type": "markdown",
   "id": "d1ea856c",
   "metadata": {},
   "source": [
    "## Create an agent that uses the Calculator"
   ]
  },
  {
   "cell_type": "code",
   "execution_count": null,
   "id": "2962c1ac",
   "metadata": {},
   "outputs": [],
   "source": [
    "generator = rg.get_generator(\"groq/meta-llama/llama-4-maverick-17b-128e-instruct\")\n",
    "\n",
    "calculator = Calculator()\n",
    "\n",
    "agent = await generator.chat(\n",
    "    [\n",
    "        {\"role\": \"system\", \"content\": \"You are a helpful assistant.\"},\n",
    "        {\"role\": \"user\", \"content\": \"What is 2 + 2?\"}\n",
    "    ]).using(calculator.tools).then(check_answer(\"4\")).run()\n",
    "\n",
    "agent"
   ]
  },
  {
   "cell_type": "markdown",
   "id": "12655a0c",
   "metadata": {},
   "source": [
    "## Tokenize the chat with a tokenizer"
   ]
  },
  {
   "cell_type": "code",
   "execution_count": null,
   "id": "3a7ef6dc",
   "metadata": {},
   "outputs": [],
   "source": [
    "await agent.to_tokens('Qwen/Qwen2.5-1.5B-Instruct')"
   ]
  },
  {
   "cell_type": "code",
   "execution_count": null,
   "id": "83e4a656",
   "metadata": {},
   "outputs": [],
   "source": []
  }
 ],
 "metadata": {
  "kernelspec": {
   "display_name": ".venv",
   "language": "python",
   "name": "python3"
  },
  "language_info": {
   "codemirror_mode": {
    "name": "ipython",
    "version": 3
   },
   "file_extension": ".py",
   "mimetype": "text/x-python",
   "name": "python",
   "nbconvert_exporter": "python",
   "pygments_lexer": "ipython3",
   "version": "3.12.9"
  }
 },
 "nbformat": 4,
 "nbformat_minor": 5
}
